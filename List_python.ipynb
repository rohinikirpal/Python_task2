{
 "cells": [
  {
   "cell_type": "markdown",
   "id": "9a8ecf8b-0f81-47f9-b505-419ca50adfaf",
   "metadata": {},
   "source": [
    "# Python Array Append Method"
   ]
  },
  {
   "cell_type": "code",
   "execution_count": 5,
   "id": "38a8c57c-a85a-4220-838f-369df3802639",
   "metadata": {},
   "outputs": [
    {
     "name": "stdout",
     "output_type": "stream",
     "text": [
      "['School', 'Institute', 'Arc', 'Analytics', 'Data Analytics', 'Data Analytics']\n"
     ]
    }
   ],
   "source": [
    "Arc=[\"School\", \"Institute\", \"Arc\", \"Analytics\"]\n",
    "veg.append(\"Data Analytics\")\n",
    "print(veg)"
   ]
  },
  {
   "cell_type": "markdown",
   "id": "90dcb3c6-0bb0-4cf3-b457-50c547afa15f",
   "metadata": {},
   "source": [
    "# Python List Clear Method"
   ]
  },
  {
   "cell_type": "code",
   "execution_count": 9,
   "id": "a700dd2e-26e9-43db-b3a5-2a05c4e7ef94",
   "metadata": {},
   "outputs": [
    {
     "name": "stdout",
     "output_type": "stream",
     "text": [
      "[]\n"
     ]
    }
   ],
   "source": [
    "l1 = [1,2,3,4,5,6,7]\n",
    "l1.clear()\n",
    "print(l1)"
   ]
  },
  {
   "cell_type": "markdown",
   "id": "b16bd553-f384-4653-b18c-43ada23b1ebf",
   "metadata": {},
   "source": [
    "# Python List Count Method"
   ]
  },
  {
   "cell_type": "code",
   "execution_count": 11,
   "id": "20397171-0680-437b-829e-e2a572475999",
   "metadata": {},
   "outputs": [
    {
     "name": "stdout",
     "output_type": "stream",
     "text": [
      "r=1\n"
     ]
    }
   ],
   "source": [
    "rohini = [\"r\", \"o\", \"h\", \"i\",\"n\",\"i\",]\n",
    "value=rohini.count(\"h\")\n",
    "print(f'r={value}')"
   ]
  },
  {
   "cell_type": "markdown",
   "id": "e38f715d-aee3-4f40-a1a1-8cf4dc74efa8",
   "metadata": {},
   "source": [
    "# Python List Extend Method"
   ]
  },
  {
   "cell_type": "code",
   "execution_count": 6,
   "id": "4a137f13-20db-4266-9e36-ea843a63f669",
   "metadata": {},
   "outputs": [
    {
     "name": "stdout",
     "output_type": "stream",
     "text": [
      "['Venue', '123r', 'R4', 'Venue', '123r', 'R4']\n"
     ]
    }
   ],
   "source": [
    "Mobile = [\"Iphone\", \"Lava\", \"Samsung\"]\n",
    "Mobile=[\"Venue\",\"123r\", \"R4\"]\n",
    "Mobile.extend(Mobile)\n",
    "print(Mobile)"
   ]
  },
  {
   "cell_type": "markdown",
   "id": "19a0056a-b4c4-46bc-8480-af96d3cc07d1",
   "metadata": {},
   "source": [
    "# Python List Index Method"
   ]
  },
  {
   "cell_type": "code",
   "execution_count": 30,
   "id": "5ecb073f-5f7c-4e77-a516-7fb9d5946f52",
   "metadata": {},
   "outputs": [
    {
     "name": "stdout",
     "output_type": "stream",
     "text": [
      "ARC=['Data', 'Analyst', 'institute']\n"
     ]
    }
   ],
   "source": [
    "ARC=[\"Data\",\"Analyst\",\"institute\"]\n",
    "food =ARC.index(\"Analyst\")\n",
    "print(f'ARC={ARC}')"
   ]
  },
  {
   "cell_type": "code",
   "execution_count": 30,
   "id": "b0bd63de-f4b4-45ac-8ac2-a7337d501acf",
   "metadata": {},
   "outputs": [
    {
     "name": "stdout",
     "output_type": "stream",
     "text": [
      "4=3\n"
     ]
    }
   ],
   "source": [
    "list = [1,2,3,4,5,6,7]\n",
    "num = list.index(4)\n",
    "print(f'4={num}')"
   ]
  },
  {
   "cell_type": "markdown",
   "id": "f3dafa14-aadd-472f-9024-4f131185c98a",
   "metadata": {},
   "source": [
    "# Python List Insert Method"
   ]
  },
  {
   "cell_type": "code",
   "execution_count": 45,
   "id": "f231c40c-49a5-4667-b9f6-dffab1ffa025",
   "metadata": {},
   "outputs": [
    {
     "name": "stdout",
     "output_type": "stream",
     "text": [
      "Software=['Photoshop', 'Canva', 'figma']\n"
     ]
    }
   ],
   "source": [
    "Software = [\"Photoshop\",\"Canva\"]\n",
    "Software.insert(2,\"figma\")\n",
    "print(f'Software={Software}')"
   ]
  },
  {
   "cell_type": "markdown",
   "id": "8ba42c68-50b2-41dd-81ae-c59b9a8f97f3",
   "metadata": {},
   "source": [
    "# Python List Pop Method"
   ]
  },
  {
   "cell_type": "code",
   "execution_count": 42,
   "id": "cb006e73-0dca-415c-9dc6-7520f3dcfecd",
   "metadata": {},
   "outputs": [
    {
     "name": "stdout",
     "output_type": "stream",
     "text": [
      "Colors=['Red', 'Blue', 'Black', 'Yellow']\n"
     ]
    }
   ],
   "source": [
    "Colors = [\"Red\", \"Blue\", \"Green\",\"Black\",\"Yellow\"]\n",
    "Colors.pop(2)\n",
    "print(f'Colors={Colors}')"
   ]
  },
  {
   "cell_type": "code",
   "execution_count": 61,
   "id": "73413924-6ea7-454a-9e05-d4bf2eb73bd4",
   "metadata": {},
   "outputs": [
    {
     "name": "stdout",
     "output_type": "stream",
     "text": [
      "list=[1, 2, 3, 4, 5, 7]\n"
     ]
    }
   ],
   "source": [
    "list = [1,2,3,4,5,6,7]\n",
    "list.pop(5)\n",
    "print(f'list={list}')"
   ]
  },
  {
   "cell_type": "markdown",
   "id": "b15c65ca-3d41-4079-b00a-b0b8b02b2e6c",
   "metadata": {},
   "source": [
    "# Python Remove Method"
   ]
  },
  {
   "cell_type": "code",
   "execution_count": 37,
   "id": "1356759a-c337-4274-8577-59d00bb8e7b2",
   "metadata": {},
   "outputs": [
    {
     "name": "stdout",
     "output_type": "stream",
     "text": [
      "name=['Rohini', 'Tushar', 'Rachin']\n"
     ]
    }
   ],
   "source": [
    "name= [\"Rohini\",\"Tushar\",\"Rachin\",\"Ujwala\"]\n",
    "name.remove(\"Ujwala\")\n",
    "print(f'name={name}')"
   ]
  },
  {
   "cell_type": "markdown",
   "id": "a056b277-565e-47cc-ba14-661ff02271c4",
   "metadata": {},
   "source": [
    "# Python List Reverse Method"
   ]
  },
  {
   "cell_type": "code",
   "execution_count": 65,
   "id": "082dd26c-cba6-446a-a2a5-18be62643714",
   "metadata": {},
   "outputs": [
    {
     "name": "stdout",
     "output_type": "stream",
     "text": [
      "list=[7, 6, 5, 4, 3, 2, 1]\n"
     ]
    }
   ],
   "source": [
    "list = [1,2,3,4,5,6,7]\n",
    "list.reverse()\n",
    "print(f'list={list}')"
   ]
  },
  {
   "cell_type": "code",
   "execution_count": 70,
   "id": "234330d4-2f26-4fc8-a679-7933f99da614",
   "metadata": {},
   "outputs": [
    {
     "name": "stdout",
     "output_type": "stream",
     "text": [
      "value=['val5', 'val4', 'val3', 'val2', 'val1']\n"
     ]
    }
   ],
   "source": [
    "value = [\"val1\",\"val2\",\"val3\",\"val4\",\"val5\"]\n",
    "value.reverse()\n",
    "print(f'value={value}')"
   ]
  },
  {
   "cell_type": "markdown",
   "id": "8eb17752-8ce4-4386-9829-ac6fd597a6b0",
   "metadata": {},
   "source": [
    "# Python Sorting Method"
   ]
  },
  {
   "cell_type": "code",
   "execution_count": 33,
   "id": "2769bb5a-ed95-4393-b4f0-21cece86dd37",
   "metadata": {},
   "outputs": [
    {
     "name": "stdout",
     "output_type": "stream",
     "text": [
      "list=[7, 6, 5, 4, 3, 2, 1]\n"
     ]
    }
   ],
   "source": [
    "list = [1,2,3,4,5,6,7]\n",
    "list.sort(reverse=True)\n",
    "print(f'list={list}')"
   ]
  },
  {
   "cell_type": "code",
   "execution_count": 75,
   "id": "ae534896-3190-4838-b747-47ff3bf3e4c1",
   "metadata": {},
   "outputs": [
    {
     "name": "stdout",
     "output_type": "stream",
     "text": [
      "list=[1, 2, 3, 4, 5, 6, 7]\n"
     ]
    }
   ],
   "source": [
    "list = [1,2,3,4,5,6,7]\n",
    "list.sort(reverse=False)\n",
    "print(f'list={list}')"
   ]
  }
 ],
 "metadata": {
  "kernelspec": {
   "display_name": "Python 3 (ipykernel)",
   "language": "python",
   "name": "python3"
  },
  "language_info": {
   "codemirror_mode": {
    "name": "ipython",
    "version": 3
   },
   "file_extension": ".py",
   "mimetype": "text/x-python",
   "name": "python",
   "nbconvert_exporter": "python",
   "pygments_lexer": "ipython3",
   "version": "3.11.7"
  }
 },
 "nbformat": 4,
 "nbformat_minor": 5
}
